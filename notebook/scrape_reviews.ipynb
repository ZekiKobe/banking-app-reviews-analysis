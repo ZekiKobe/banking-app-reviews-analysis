{
 "cells": [
  {
   "cell_type": "markdown",
   "id": "7ec40ab5",
   "metadata": {},
   "source": [
    "## Scraping Reviews from Google Play Store"
   ]
  },
  {
   "cell_type": "markdown",
   "id": "fbbe160f",
   "metadata": {},
   "source": [
    "### Importing packages "
   ]
  },
  {
   "cell_type": "code",
   "execution_count": 9,
   "id": "d10058b2",
   "metadata": {},
   "outputs": [],
   "source": [
    "# Cell 1: Imports and Setup\n",
    "from google_play_scraper import app, Sort, reviews_all\n",
    "import pandas as pd\n",
    "import time\n",
    "from datetime import datetime\n",
    "\n",
    "# Bank apps to scrape (package names from Google Play Store URLs)\n",
    "BANK_APPS = {\n",
    "    \"Commercial Bank of Ethiopia\": \"com.combanketh.mobilebanking\",\n",
    "    \"Bank of Abyssinia\": \"com.boa.boaMobileBanking\",\n",
    "    \"Dashen Bank\": \"com.cr2.amolelight\"\n",
    "}\n"
   ]
  },
  {
   "cell_type": "markdown",
   "id": "bd8f8c43",
   "metadata": {},
   "source": [
    "### Defining Review Scraper Function"
   ]
  },
  {
   "cell_type": "code",
   "execution_count": 12,
   "id": "8fdc7196",
   "metadata": {},
   "outputs": [],
   "source": [
    "# Cell 2: Review Scraper Function\n",
    "def scrape_reviews(package_name, bank_name):\n",
    "    \"\"\"\n",
    "    Scrape reviews for a specific bank app\n",
    "    \"\"\"\n",
    "    print(f\"Scraping reviews for {bank_name}...\")\n",
    "    \n",
    "    # Get app info first\n",
    "    try:\n",
    "        app_info = app(package_name)\n",
    "        print(f\"App found: {app_info['title']} ({app_info['score']} stars)\")\n",
    "    except Exception as e:\n",
    "        print(f\"Error getting app info: {e}\")\n",
    "        app_info = None\n",
    "    \n",
    "    # Scrape reviews\n",
    "    all_reviews = []\n",
    "    continuation_token = None\n",
    "    \n",
    "    for _ in range(5):  # 5 batches of ~100 reviews\n",
    "        try:\n",
    "            result = reviews_all(\n",
    "            package_name,\n",
    "            lang='en',\n",
    "            country='et',\n",
    "            sort=Sort.NEWEST,\n",
    "        )\n",
    "\n",
    "            all_reviews.extend(result)\n",
    "            print(f\"Collected {len(result)} reviews (total: {len(all_reviews)})\")\n",
    "            \n",
    "            if not continuation_token:\n",
    "                break\n",
    "                \n",
    "            time.sleep(2)\n",
    "            \n",
    "        except Exception as e:\n",
    "            print(f\"Error scraping reviews: {e}\")\n",
    "            break\n",
    "    \n",
    "    # Convert to DataFrame\n",
    "    df = pd.DataFrame(all_reviews)\n",
    "    \n",
    "    # Add bank name\n",
    "    df['bank'] = bank_name\n",
    "    \n",
    "    # Convert timestamp to date\n",
    "    df['date'] = pd.to_datetime(df['at']).dt.date\n",
    "    \n",
    "    # Select relevant columns\n",
    "    df = df[['content', 'score', 'date', 'bank', 'thumbsUpCount']]\n",
    "    df.columns = ['review', 'rating', 'date', 'bank', 'votes']\n",
    "    \n",
    "    return df\n"
   ]
  },
  {
   "cell_type": "markdown",
   "id": "145623fd",
   "metadata": {},
   "source": [
    "### Main Scraper Execution"
   ]
  },
  {
   "cell_type": "code",
   "execution_count": 13,
   "id": "a642fd80",
   "metadata": {},
   "outputs": [
    {
     "name": "stdout",
     "output_type": "stream",
     "text": [
      "Scraping reviews for Commercial Bank of Ethiopia...\n",
      "App found: Commercial Bank of Ethiopia (4.35 stars)\n",
      "Collected 7497 reviews (total: 7497)\n",
      "Scraping reviews for Bank of Abyssinia...\n",
      "App found: BoA Mobile (2.73 stars)\n",
      "Collected 1045 reviews (total: 1045)\n",
      "Scraping reviews for Dashen Bank...\n",
      "App found: Dashen Mobile (4.1384616 stars)\n",
      "Collected 491 reviews (total: 491)\n"
     ]
    }
   ],
   "source": [
    "\n",
    "all_reviews = []\n",
    "\n",
    "for bank_name, package_name in BANK_APPS.items():\n",
    "    try:\n",
    "        bank_reviews = scrape_reviews(package_name, bank_name)\n",
    "        all_reviews.append(bank_reviews)\n",
    "    except Exception as e:\n",
    "        print(f\"Failed to scrape {bank_name}: {e}\")\n"
   ]
  },
  {
   "cell_type": "markdown",
   "id": "31b2f113",
   "metadata": {},
   "source": [
    "### Combine and Save to CSV"
   ]
  },
  {
   "cell_type": "code",
   "execution_count": 16,
   "id": "cf3bda94",
   "metadata": {},
   "outputs": [
    {
     "name": "stdout",
     "output_type": "stream",
     "text": [
      "Saved 9033 reviews to ../data/All_banks_reviews.csv\n"
     ]
    }
   ],
   "source": [
    "combined_df = pd.concat(all_reviews, ignore_index=True)\n",
    "\n",
    "# Save to CSV\n",
    "timestamp = datetime.now().strftime(\"%Y%m%d_%H%M%S\")\n",
    "filename = f\"../data/All_banks_reviews.csv\"\n",
    "combined_df.to_csv(filename, index=False)\n",
    "print(f\"Saved {len(combined_df)} reviews to {filename}\")\n"
   ]
  },
  {
   "cell_type": "markdown",
   "id": "4a492dc3",
   "metadata": {},
   "source": [
    "### Displaying Preview"
   ]
  },
  {
   "cell_type": "code",
   "execution_count": 20,
   "id": "5d011a5c",
   "metadata": {},
   "outputs": [
    {
     "data": {
      "text/html": [
       "<div>\n",
       "<style scoped>\n",
       "    .dataframe tbody tr th:only-of-type {\n",
       "        vertical-align: middle;\n",
       "    }\n",
       "\n",
       "    .dataframe tbody tr th {\n",
       "        vertical-align: top;\n",
       "    }\n",
       "\n",
       "    .dataframe thead th {\n",
       "        text-align: right;\n",
       "    }\n",
       "</style>\n",
       "<table border=\"1\" class=\"dataframe\">\n",
       "  <thead>\n",
       "    <tr style=\"text-align: right;\">\n",
       "      <th></th>\n",
       "      <th>review</th>\n",
       "      <th>rating</th>\n",
       "      <th>date</th>\n",
       "      <th>bank</th>\n",
       "      <th>votes</th>\n",
       "    </tr>\n",
       "  </thead>\n",
       "  <tbody>\n",
       "    <tr>\n",
       "      <th>0</th>\n",
       "      <td>what is this app problem???</td>\n",
       "      <td>1</td>\n",
       "      <td>2025-06-05</td>\n",
       "      <td>Commercial Bank of Ethiopia</td>\n",
       "      <td>0</td>\n",
       "    </tr>\n",
       "    <tr>\n",
       "      <th>1</th>\n",
       "      <td>the app is proactive and a good connections.</td>\n",
       "      <td>5</td>\n",
       "      <td>2025-06-05</td>\n",
       "      <td>Commercial Bank of Ethiopia</td>\n",
       "      <td>0</td>\n",
       "    </tr>\n",
       "    <tr>\n",
       "      <th>2</th>\n",
       "      <td>I cannot send to cbebirr app. through this app.</td>\n",
       "      <td>3</td>\n",
       "      <td>2025-06-05</td>\n",
       "      <td>Commercial Bank of Ethiopia</td>\n",
       "      <td>0</td>\n",
       "    </tr>\n",
       "    <tr>\n",
       "      <th>3</th>\n",
       "      <td>good</td>\n",
       "      <td>4</td>\n",
       "      <td>2025-06-05</td>\n",
       "      <td>Commercial Bank of Ethiopia</td>\n",
       "      <td>0</td>\n",
       "    </tr>\n",
       "    <tr>\n",
       "      <th>4</th>\n",
       "      <td>not functional</td>\n",
       "      <td>1</td>\n",
       "      <td>2025-06-05</td>\n",
       "      <td>Commercial Bank of Ethiopia</td>\n",
       "      <td>0</td>\n",
       "    </tr>\n",
       "  </tbody>\n",
       "</table>\n",
       "</div>"
      ],
      "text/plain": [
       "                                            review  rating        date  \\\n",
       "0                      what is this app problem???       1  2025-06-05   \n",
       "1     the app is proactive and a good connections.       5  2025-06-05   \n",
       "2  I cannot send to cbebirr app. through this app.       3  2025-06-05   \n",
       "3                                             good       4  2025-06-05   \n",
       "4                                   not functional       1  2025-06-05   \n",
       "\n",
       "                          bank  votes  \n",
       "0  Commercial Bank of Ethiopia      0  \n",
       "1  Commercial Bank of Ethiopia      0  \n",
       "2  Commercial Bank of Ethiopia      0  \n",
       "3  Commercial Bank of Ethiopia      0  \n",
       "4  Commercial Bank of Ethiopia      0  "
      ]
     },
     "execution_count": 20,
     "metadata": {},
     "output_type": "execute_result"
    }
   ],
   "source": [
    "combined_df.head()"
   ]
  },
  {
   "cell_type": "markdown",
   "id": "2a89c45b",
   "metadata": {},
   "source": [
    "## Data Preprocessing"
   ]
  },
  {
   "cell_type": "code",
   "execution_count": 1,
   "id": "1146772f",
   "metadata": {},
   "outputs": [
    {
     "name": "stderr",
     "output_type": "stream",
     "text": [
      "c:\\Users\\gagur\\Pictures\\banking-app-reviews-analysis\\env\\Lib\\site-packages\\tqdm\\auto.py:21: TqdmWarning: IProgress not found. Please update jupyter and ipywidgets. See https://ipywidgets.readthedocs.io/en/stable/user_install.html\n",
      "  from .autonotebook import tqdm as notebook_tqdm\n",
      "[nltk_data] Downloading package punkt to\n",
      "[nltk_data]     C:\\Users\\gagur\\AppData\\Roaming\\nltk_data...\n",
      "[nltk_data]   Package punkt is already up-to-date!\n",
      "[nltk_data] Downloading package stopwords to\n",
      "[nltk_data]     C:\\Users\\gagur\\AppData\\Roaming\\nltk_data...\n",
      "[nltk_data]   Package stopwords is already up-to-date!\n",
      "[nltk_data] Downloading package wordnet to\n",
      "[nltk_data]     C:\\Users\\gagur\\AppData\\Roaming\\nltk_data...\n",
      "[nltk_data]   Package wordnet is already up-to-date!\n"
     ]
    }
   ],
   "source": [
    "# Cell 1: Imports and setup\n",
    "import pandas as pd\n",
    "import numpy as np\n",
    "import matplotlib.pyplot as plt\n",
    "import seaborn as sns\n",
    "from wordcloud import WordCloud\n",
    "import re\n",
    "import nltk\n",
    "from nltk.corpus import stopwords\n",
    "from nltk.tokenize import word_tokenize\n",
    "from nltk.stem import WordNetLemmatizer\n",
    "from textblob import TextBlob\n",
    "from transformers import pipeline\n",
    "import sqlalchemy\n",
    "import oracledb\n",
    "from datetime import datetime\n",
    "import warnings\n",
    "\n",
    "# Initialize NLTK\n",
    "nltk.download('punkt')\n",
    "nltk.download('stopwords')\n",
    "nltk.download('wordnet')\n",
    "\n",
    "# Suppress warnings\n",
    "warnings.filterwarnings('ignore')\n"
   ]
  },
  {
   "cell_type": "markdown",
   "id": "a23511f0",
   "metadata": {},
   "source": [
    "### ReviewAnalyzer class definition and processing text"
   ]
  },
  {
   "cell_type": "code",
   "execution_count": 3,
   "id": "49403cbd",
   "metadata": {},
   "outputs": [],
   "source": [
    "class ReviewAnalyzer:\n",
    "    def __init__(self, csv_file):\n",
    "        self.df = pd.read_csv(csv_file)\n",
    "        self.lemmatizer = WordNetLemmatizer()\n",
    "        self.stop_words = set(stopwords.words('english'))\n",
    "        \n",
    "    def clean_text(self, text):\n",
    "        \"\"\"Clean and preprocess text\"\"\"\n",
    "        if not isinstance(text, str):\n",
    "            return \"\"\n",
    "        \n",
    "        # Remove special characters and numbers\n",
    "        text = re.sub(r'[^a-zA-Z\\s]', '', text, re.I|re.A)\n",
    "        # Convert to lowercase\n",
    "        text = text.lower()\n",
    "        # Remove extra whitespace\n",
    "        text = re.sub(' +', ' ', text)\n",
    "        return text.strip()\n",
    "    \n",
    "    def preprocess_text(self, text):\n",
    "        \"\"\"Tokenize and lemmatize text\"\"\"\n",
    "        tokens = word_tokenize(text)\n",
    "        tokens = [self.lemmatizer.lemmatize(word) for word in tokens]\n",
    "        tokens = [word for word in tokens if word not in self.stop_words]\n",
    "        tokens = [word for word in tokens if len(word) > 2]\n",
    "        return ' '.join(tokens)"
   ]
  }
 ],
 "metadata": {
  "kernelspec": {
   "display_name": "env",
   "language": "python",
   "name": "python3"
  },
  "language_info": {
   "codemirror_mode": {
    "name": "ipython",
    "version": 3
   },
   "file_extension": ".py",
   "mimetype": "text/x-python",
   "name": "python",
   "nbconvert_exporter": "python",
   "pygments_lexer": "ipython3",
   "version": "3.12.10"
  }
 },
 "nbformat": 4,
 "nbformat_minor": 5
}
